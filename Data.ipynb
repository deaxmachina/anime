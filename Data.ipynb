{
 "cells": [
  {
   "cell_type": "code",
   "execution_count": 12,
   "metadata": {},
   "outputs": [],
   "source": [
    "from jikanpy import Jikan\n",
    "import json \n",
    "import pandas as pd \n",
    "import numpy as np\n",
    "from time import sleep"
   ]
  },
  {
   "cell_type": "code",
   "execution_count": 13,
   "metadata": {},
   "outputs": [],
   "source": [
    "jikan = Jikan()"
   ]
  },
  {
   "cell_type": "code",
   "execution_count": 20,
   "metadata": {},
   "outputs": [],
   "source": [
    "archive = jikan.season_archive()"
   ]
  },
  {
   "cell_type": "code",
   "execution_count": 95,
   "metadata": {},
   "outputs": [],
   "source": [
    "# example of request for a specific season of a specific year \n",
    "winter_2018_anime = jikan.season(year=2018, season='fall')"
   ]
  },
  {
   "cell_type": "code",
   "execution_count": 98,
   "metadata": {},
   "outputs": [],
   "source": [
    "for anime in winter_2018_anime['anime']:\n",
    "    anime['year'] = \"2018\"\n",
    "    anime['season'] = 'fall'"
   ]
  },
  {
   "cell_type": "code",
   "execution_count": 14,
   "metadata": {},
   "outputs": [],
   "source": [
    "# get anime for a single year \n",
    "seasons = ['winter', 'spring', 'summer', 'fall']\n",
    "def get_anime_year(year):\n",
    "    anime_year = []\n",
    "    for season in seasons: \n",
    "        # get all the anime for that season \n",
    "        try: \n",
    "            anime_season = jikan.season(year=year, season=season)['anime']\n",
    "            for anime in anime_season: \n",
    "                anime['air_year'] = year \n",
    "                anime['air_season'] = season\n",
    "            anime_year.extend(anime_season)\n",
    "        except: \n",
    "            continue\n",
    "    return anime_year"
   ]
  },
  {
   "cell_type": "code",
   "execution_count": 26,
   "metadata": {},
   "outputs": [],
   "source": [
    "# get all anime since 1920 \n",
    "all_anime = []"
   ]
  },
  {
   "cell_type": "code",
   "execution_count": 27,
   "metadata": {},
   "outputs": [],
   "source": [
    "for year in range(1917, 2022):\n",
    "    anime_year = get_anime_year(year)\n",
    "    sleep(5)\n",
    "    all_anime.extend(anime_year)"
   ]
  },
  {
   "cell_type": "code",
   "execution_count": 28,
   "metadata": {},
   "outputs": [
    {
     "data": {
      "text/plain": [
       "22474"
      ]
     },
     "execution_count": 28,
     "metadata": {},
     "output_type": "execute_result"
    }
   ],
   "source": [
    "len(all_anime)"
   ]
  },
  {
   "cell_type": "code",
   "execution_count": 29,
   "metadata": {},
   "outputs": [],
   "source": [
    "with open('mal_scrape.json', 'w') as outfile:\n",
    "    json.dump(all_anime, outfile)"
   ]
  },
  {
   "cell_type": "code",
   "execution_count": 30,
   "metadata": {},
   "outputs": [],
   "source": [
    "with open('mal_scrape.json') as json_file:\n",
    "    data = json.load(json_file)"
   ]
  },
  {
   "cell_type": "markdown",
   "metadata": {},
   "source": [
    "# Data formatting"
   ]
  },
  {
   "cell_type": "code",
   "execution_count": 31,
   "metadata": {},
   "outputs": [],
   "source": [
    "df = pd.DataFrame.from_dict(data)"
   ]
  },
  {
   "cell_type": "code",
   "execution_count": 32,
   "metadata": {},
   "outputs": [
    {
     "data": {
      "text/plain": [
       "Index(['mal_id', 'url', 'title', 'image_url', 'synopsis', 'type',\n",
       "       'airing_start', 'episodes', 'members', 'genres', 'source', 'producers',\n",
       "       'score', 'licensors', 'r18', 'kids', 'continuing', 'air_year',\n",
       "       'air_season'],\n",
       "      dtype='object')"
      ]
     },
     "execution_count": 32,
     "metadata": {},
     "output_type": "execute_result"
    }
   ],
   "source": [
    "df.columns"
   ]
  },
  {
   "cell_type": "code",
   "execution_count": 33,
   "metadata": {},
   "outputs": [],
   "source": [
    "# get list of genres \n",
    "df['genres_clean'] = df['genres'].apply(lambda x : [element['name'] for element in x])\n",
    "# get list of producers \n",
    "df['producers_clean'] = df['producers'].apply(lambda x : [element['name'] for element in x])\n",
    "# drop the anime for which there is no start date, note that there is only about 100 of them \n",
    "df = df.dropna(subset=['airing_start'])"
   ]
  },
  {
   "cell_type": "code",
   "execution_count": 34,
   "metadata": {},
   "outputs": [],
   "source": [
    "# get the dates in datetime format \n",
    "df['airing_start_clean'] = df['airing_start'].apply(lambda x : x.split(\"T\")[0])\n",
    "df['airing_start_clean'] = pd.to_datetime(df['airing_start_clean'])\n",
    "df['year'] = df['airing_start_clean'].dt.year"
   ]
  },
  {
   "cell_type": "code",
   "execution_count": 35,
   "metadata": {},
   "outputs": [
    {
     "data": {
      "text/html": [
       "<div>\n",
       "<style scoped>\n",
       "    .dataframe tbody tr th:only-of-type {\n",
       "        vertical-align: middle;\n",
       "    }\n",
       "\n",
       "    .dataframe tbody tr th {\n",
       "        vertical-align: top;\n",
       "    }\n",
       "\n",
       "    .dataframe thead th {\n",
       "        text-align: right;\n",
       "    }\n",
       "</style>\n",
       "<table border=\"1\" class=\"dataframe\">\n",
       "  <thead>\n",
       "    <tr style=\"text-align: right;\">\n",
       "      <th></th>\n",
       "      <th>mal_id</th>\n",
       "      <th>url</th>\n",
       "      <th>title</th>\n",
       "      <th>image_url</th>\n",
       "      <th>synopsis</th>\n",
       "      <th>type</th>\n",
       "      <th>airing_start</th>\n",
       "      <th>episodes</th>\n",
       "      <th>members</th>\n",
       "      <th>genres</th>\n",
       "      <th>...</th>\n",
       "      <th>licensors</th>\n",
       "      <th>r18</th>\n",
       "      <th>kids</th>\n",
       "      <th>continuing</th>\n",
       "      <th>air_year</th>\n",
       "      <th>air_season</th>\n",
       "      <th>genres_clean</th>\n",
       "      <th>producers_clean</th>\n",
       "      <th>airing_start_clean</th>\n",
       "      <th>year</th>\n",
       "    </tr>\n",
       "  </thead>\n",
       "  <tbody>\n",
       "    <tr>\n",
       "      <th>1</th>\n",
       "      <td>6654</td>\n",
       "      <td>https://myanimelist.net/anime/6654/Namakura_Ga...</td>\n",
       "      <td>Namakura Gatana</td>\n",
       "      <td>https://cdn.myanimelist.net/images/anime/4/152...</td>\n",
       "      <td>Namakura Gatana, meaning \"dull-edged sword,\" i...</td>\n",
       "      <td>Movie</td>\n",
       "      <td>1917-06-29T15:00:00+00:00</td>\n",
       "      <td>1.0</td>\n",
       "      <td>5505</td>\n",
       "      <td>[{'mal_id': 4, 'type': 'anime', 'name': 'Comed...</td>\n",
       "      <td>...</td>\n",
       "      <td>[]</td>\n",
       "      <td>False</td>\n",
       "      <td>False</td>\n",
       "      <td>False</td>\n",
       "      <td>1917</td>\n",
       "      <td>spring</td>\n",
       "      <td>[Comedy, Samurai]</td>\n",
       "      <td>[]</td>\n",
       "      <td>1917-06-29</td>\n",
       "      <td>1917</td>\n",
       "    </tr>\n",
       "    <tr>\n",
       "      <th>2</th>\n",
       "      <td>10742</td>\n",
       "      <td>https://myanimelist.net/anime/10742/Saru_to_Ka...</td>\n",
       "      <td>Saru to Kani no Gassen</td>\n",
       "      <td>https://cdn.myanimelist.net/images/anime/4/837...</td>\n",
       "      <td>A monkey tricks a crab and steals his food. Mo...</td>\n",
       "      <td>Movie</td>\n",
       "      <td>1917-05-19T15:00:00+00:00</td>\n",
       "      <td>1.0</td>\n",
       "      <td>604</td>\n",
       "      <td>[{'mal_id': 8, 'type': 'anime', 'name': 'Drama...</td>\n",
       "      <td>...</td>\n",
       "      <td>[]</td>\n",
       "      <td>False</td>\n",
       "      <td>False</td>\n",
       "      <td>False</td>\n",
       "      <td>1917</td>\n",
       "      <td>spring</td>\n",
       "      <td>[Drama]</td>\n",
       "      <td>[]</td>\n",
       "      <td>1917-05-19</td>\n",
       "      <td>1917</td>\n",
       "    </tr>\n",
       "    <tr>\n",
       "      <th>6</th>\n",
       "      <td>23187</td>\n",
       "      <td>https://myanimelist.net/anime/23187/Chamebou_S...</td>\n",
       "      <td>Chamebou Shin Gachou: Nomi Fuufu Shikaeshi no ...</td>\n",
       "      <td>https://cdn.myanimelist.net/images/qm_50.gif</td>\n",
       "      <td>(No synopsis yet.)</td>\n",
       "      <td>Movie</td>\n",
       "      <td>1917-04-27T15:00:00+00:00</td>\n",
       "      <td>1.0</td>\n",
       "      <td>276</td>\n",
       "      <td>[{'mal_id': 4, 'type': 'anime', 'name': 'Comed...</td>\n",
       "      <td>...</td>\n",
       "      <td>[]</td>\n",
       "      <td>False</td>\n",
       "      <td>False</td>\n",
       "      <td>False</td>\n",
       "      <td>1917</td>\n",
       "      <td>spring</td>\n",
       "      <td>[Comedy]</td>\n",
       "      <td>[]</td>\n",
       "      <td>1917-04-27</td>\n",
       "      <td>1917</td>\n",
       "    </tr>\n",
       "    <tr>\n",
       "      <th>7</th>\n",
       "      <td>18457</td>\n",
       "      <td>https://myanimelist.net/anime/18457/Hanasaka_J...</td>\n",
       "      <td>Hanasaka Jijii</td>\n",
       "      <td>https://cdn.myanimelist.net/images/anime/5/494...</td>\n",
       "      <td>Short movie produced by the first generation a...</td>\n",
       "      <td>Movie</td>\n",
       "      <td>1917-08-25T15:00:00+00:00</td>\n",
       "      <td>1.0</td>\n",
       "      <td>760</td>\n",
       "      <td>[{'mal_id': 4, 'type': 'anime', 'name': 'Comed...</td>\n",
       "      <td>...</td>\n",
       "      <td>[]</td>\n",
       "      <td>False</td>\n",
       "      <td>False</td>\n",
       "      <td>False</td>\n",
       "      <td>1917</td>\n",
       "      <td>summer</td>\n",
       "      <td>[Comedy, Drama]</td>\n",
       "      <td>[]</td>\n",
       "      <td>1917-08-25</td>\n",
       "      <td>1917</td>\n",
       "    </tr>\n",
       "    <tr>\n",
       "      <th>8</th>\n",
       "      <td>23183</td>\n",
       "      <td>https://myanimelist.net/anime/23183/Itazura_Post</td>\n",
       "      <td>Itazura Post</td>\n",
       "      <td>https://cdn.myanimelist.net/images/qm_50.gif</td>\n",
       "      <td>(No synopsis yet.)</td>\n",
       "      <td>Movie</td>\n",
       "      <td>1917-07-27T15:00:00+00:00</td>\n",
       "      <td>1.0</td>\n",
       "      <td>282</td>\n",
       "      <td>[{'mal_id': 4, 'type': 'anime', 'name': 'Comed...</td>\n",
       "      <td>...</td>\n",
       "      <td>[]</td>\n",
       "      <td>False</td>\n",
       "      <td>False</td>\n",
       "      <td>False</td>\n",
       "      <td>1917</td>\n",
       "      <td>summer</td>\n",
       "      <td>[Comedy]</td>\n",
       "      <td>[]</td>\n",
       "      <td>1917-07-27</td>\n",
       "      <td>1917</td>\n",
       "    </tr>\n",
       "  </tbody>\n",
       "</table>\n",
       "<p>5 rows × 23 columns</p>\n",
       "</div>"
      ],
      "text/plain": [
       "   mal_id                                                url  \\\n",
       "1    6654  https://myanimelist.net/anime/6654/Namakura_Ga...   \n",
       "2   10742  https://myanimelist.net/anime/10742/Saru_to_Ka...   \n",
       "6   23187  https://myanimelist.net/anime/23187/Chamebou_S...   \n",
       "7   18457  https://myanimelist.net/anime/18457/Hanasaka_J...   \n",
       "8   23183   https://myanimelist.net/anime/23183/Itazura_Post   \n",
       "\n",
       "                                               title  \\\n",
       "1                                    Namakura Gatana   \n",
       "2                             Saru to Kani no Gassen   \n",
       "6  Chamebou Shin Gachou: Nomi Fuufu Shikaeshi no ...   \n",
       "7                                     Hanasaka Jijii   \n",
       "8                                       Itazura Post   \n",
       "\n",
       "                                           image_url  \\\n",
       "1  https://cdn.myanimelist.net/images/anime/4/152...   \n",
       "2  https://cdn.myanimelist.net/images/anime/4/837...   \n",
       "6       https://cdn.myanimelist.net/images/qm_50.gif   \n",
       "7  https://cdn.myanimelist.net/images/anime/5/494...   \n",
       "8       https://cdn.myanimelist.net/images/qm_50.gif   \n",
       "\n",
       "                                            synopsis   type  \\\n",
       "1  Namakura Gatana, meaning \"dull-edged sword,\" i...  Movie   \n",
       "2  A monkey tricks a crab and steals his food. Mo...  Movie   \n",
       "6                                 (No synopsis yet.)  Movie   \n",
       "7  Short movie produced by the first generation a...  Movie   \n",
       "8                                 (No synopsis yet.)  Movie   \n",
       "\n",
       "                airing_start  episodes  members  \\\n",
       "1  1917-06-29T15:00:00+00:00       1.0     5505   \n",
       "2  1917-05-19T15:00:00+00:00       1.0      604   \n",
       "6  1917-04-27T15:00:00+00:00       1.0      276   \n",
       "7  1917-08-25T15:00:00+00:00       1.0      760   \n",
       "8  1917-07-27T15:00:00+00:00       1.0      282   \n",
       "\n",
       "                                              genres  ... licensors    r18  \\\n",
       "1  [{'mal_id': 4, 'type': 'anime', 'name': 'Comed...  ...        []  False   \n",
       "2  [{'mal_id': 8, 'type': 'anime', 'name': 'Drama...  ...        []  False   \n",
       "6  [{'mal_id': 4, 'type': 'anime', 'name': 'Comed...  ...        []  False   \n",
       "7  [{'mal_id': 4, 'type': 'anime', 'name': 'Comed...  ...        []  False   \n",
       "8  [{'mal_id': 4, 'type': 'anime', 'name': 'Comed...  ...        []  False   \n",
       "\n",
       "    kids continuing  air_year  air_season       genres_clean  producers_clean  \\\n",
       "1  False      False      1917      spring  [Comedy, Samurai]               []   \n",
       "2  False      False      1917      spring            [Drama]               []   \n",
       "6  False      False      1917      spring           [Comedy]               []   \n",
       "7  False      False      1917      summer    [Comedy, Drama]               []   \n",
       "8  False      False      1917      summer           [Comedy]               []   \n",
       "\n",
       "  airing_start_clean  year  \n",
       "1         1917-06-29  1917  \n",
       "2         1917-05-19  1917  \n",
       "6         1917-04-27  1917  \n",
       "7         1917-08-25  1917  \n",
       "8         1917-07-27  1917  \n",
       "\n",
       "[5 rows x 23 columns]"
      ]
     },
     "execution_count": 35,
     "metadata": {},
     "output_type": "execute_result"
    }
   ],
   "source": [
    "df.head()"
   ]
  },
  {
   "cell_type": "code",
   "execution_count": 36,
   "metadata": {},
   "outputs": [],
   "source": [
    "df.to_csv(\"mal_scrape.csv\")"
   ]
  },
  {
   "cell_type": "code",
   "execution_count": null,
   "metadata": {},
   "outputs": [],
   "source": []
  }
 ],
 "metadata": {
  "kernelspec": {
   "display_name": "Python 3",
   "language": "python",
   "name": "python3"
  },
  "language_info": {
   "codemirror_mode": {
    "name": "ipython",
    "version": 3
   },
   "file_extension": ".py",
   "mimetype": "text/x-python",
   "name": "python",
   "nbconvert_exporter": "python",
   "pygments_lexer": "ipython3",
   "version": "3.7.6"
  }
 },
 "nbformat": 4,
 "nbformat_minor": 4
}
